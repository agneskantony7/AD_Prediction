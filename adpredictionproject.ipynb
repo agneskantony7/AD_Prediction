{
 "cells": [
  {
   "cell_type": "code",
   "execution_count": 2,
   "id": "3d54ec83",
   "metadata": {},
   "outputs": [
    {
     "name": "stdout",
     "output_type": "stream",
     "text": [
      "Requirement already satisfied: pandas in c:\\programdata\\anaconda3\\lib\\site-packages (1.3.4)\n",
      "Requirement already satisfied: numpy in c:\\programdata\\anaconda3\\lib\\site-packages (1.20.3)\n",
      "Requirement already satisfied: python-dateutil>=2.7.3 in c:\\programdata\\anaconda3\\lib\\site-packages (from pandas) (2.8.2)\n",
      "Requirement already satisfied: pytz>=2017.3 in c:\\programdata\\anaconda3\\lib\\site-packages (from pandas) (2021.3)\n",
      "Requirement already satisfied: six>=1.5 in c:\\programdata\\anaconda3\\lib\\site-packages (from python-dateutil>=2.7.3->pandas) (1.16.0)\n",
      "Note: you may need to restart the kernel to use updated packages.\n"
     ]
    }
   ],
   "source": [
    "%pip install pandas numpy \n",
    "import pandas as pd\n",
    "import numpy as np"
   ]
  },
  {
   "cell_type": "code",
   "execution_count": 3,
   "id": "f65bcf9d",
   "metadata": {
    "scrolled": true
   },
   "outputs": [
    {
     "name": "stderr",
     "output_type": "stream",
     "text": [
      "C:\\ProgramData\\Anaconda3\\lib\\site-packages\\IPython\\core\\interactiveshell.py:3444: DtypeWarning: Columns (471,473,474,487,488,489,490,491,492,493,494,495,496,497,498,499,500,501,502,503,504,505,506,507,508,509,510,511,512,513,514,515,516,517,518,519,520,521,522,523,524,525,526,527,528,529,530,531,532,533,534,535,536,537,538,539,540,541,542,543,544,545,546,547,548,549,550,551,552,553,554,555,556,557,558,559,560,561,562,563,569,570,572,573,574,575,576,577,578,579,580,581,582,583,584,585,586,587,588,589,590,591,592,593,594,595,596,597,599,601,606,607,608,609,610,611,612,613,614,615,616,617,618,619,620,621,624,625,626,627,628,629,630,631,632,633,634,636,637,638,639,640,641,642,643,644,645,646,647,648,649,650,651,652,653,654,655,656,657,658,659,660,661,663,664,665,666,667,668,669,670,671,672,673,674,675,676,677,678,679,680,681,682,683,684,685,686,687,688,689,690,691,692,693,694,695,696,697,698,699,700,701,702,703,704,705,706,707,708,709,710,711,712,713,714,715,716,717,718,719,720,721,722,723,724,725,726,727,728,729,730,731,732,733,734,735,736,737,738,739,745,746,748,749,750,751,752,753,754,755,756,757,758,759,760,761,762,763,764,765,766,767,770,771,776,777,778,779,780,781,782,783,784,785,786,787,788,789,790,791,794,795,797,798,799,800,801,802,803,804,806,807,808,809,810,811,812,813,814,815,816,817,818,819,820,821,822,823,824,825,826,827,828,829,830,831) have mixed types.Specify dtype option on import or set low_memory=False.\n",
      "  exec(code_obj, self.user_global_ns, self.user_ns)\n"
     ]
    }
   ],
   "source": [
    "dataframe = pd.read_csv('d:/Downloads/TADPOLE_D1_D2.csv')"
   ]
  },
  {
   "cell_type": "code",
   "execution_count": 4,
   "id": "769e7024",
   "metadata": {},
   "outputs": [
    {
     "name": "stdout",
     "output_type": "stream",
     "text": [
      "   RID        PTID VISCODE  SITE  D1  D2 COLPROT ORIGPROT   EXAMDATE DX_bl  \\\n",
      "0    2  011_S_0002      bl    11   1   1   ADNI1    ADNI1   9/8/2005    CN   \n",
      "1    3  011_S_0003      bl    11   1   0   ADNI1    ADNI1  9/12/2005    AD   \n",
      "2    3  011_S_0003     m06    11   1   0   ADNI1    ADNI1  3/13/2006    AD   \n",
      "3    3  011_S_0003     m12    11   1   0   ADNI1    ADNI1  9/12/2006    AD   \n",
      "4    3  011_S_0003     m24    11   1   0   ADNI1    ADNI1  9/12/2007    AD   \n",
      "\n",
      "   ...  PHASE_UPENNBIOMK9_04_19_17  BATCH_UPENNBIOMK9_04_19_17  \\\n",
      "0  ...                                                           \n",
      "1  ...                       ADNI1                 UPENNBIOMK9   \n",
      "2  ...                                                           \n",
      "3  ...                       ADNI1                 UPENNBIOMK9   \n",
      "4  ...                                                           \n",
      "\n",
      "  KIT_UPENNBIOMK9_04_19_17  STDS_UPENNBIOMK9_04_19_17  \\\n",
      "0                                                       \n",
      "1            P06-MP02-MP01            P06-MP02-MP01/2   \n",
      "2                                                       \n",
      "3            P06-MP02-MP01            P06-MP02-MP01/2   \n",
      "4                                                       \n",
      "\n",
      "  RUNDATE_UPENNBIOMK9_04_19_17 ABETA_UPENNBIOMK9_04_19_17  \\\n",
      "0                                                           \n",
      "1                   12/14/2016                      741.5   \n",
      "2                                                           \n",
      "3                   12/14/2016                      601.4   \n",
      "4                                                           \n",
      "\n",
      "  TAU_UPENNBIOMK9_04_19_17  PTAU_UPENNBIOMK9_04_19_17  \\\n",
      "0                                                       \n",
      "1                    239.7                      22.83   \n",
      "2                                                       \n",
      "3                    251.7                      24.18   \n",
      "4                                                       \n",
      "\n",
      "   COMMENT_UPENNBIOMK9_04_19_17  update_stamp_UPENNBIOMK9_04_19_17  \n",
      "0                                                                   \n",
      "1                           NaN                            39:54.0  \n",
      "2                                                                   \n",
      "3                           NaN                            39:54.0  \n",
      "4                                                                   \n",
      "\n",
      "[5 rows x 1907 columns]\n"
     ]
    }
   ],
   "source": [
    "print(dataframe.head())"
   ]
  },
  {
   "cell_type": "code",
   "execution_count": 5,
   "id": "05090c6a",
   "metadata": {},
   "outputs": [
    {
     "name": "stdout",
     "output_type": "stream",
     "text": [
      "<class 'pandas.core.frame.DataFrame'>\n",
      "RangeIndex: 12741 entries, 0 to 12740\n",
      "Columns: 1907 entries, RID to update_stamp_UPENNBIOMK9_04_19_17\n",
      "dtypes: float64(72), int64(8), object(1827)\n",
      "memory usage: 185.4+ MB\n",
      "None\n"
     ]
    }
   ],
   "source": [
    "print(dataframe.info())"
   ]
  },
  {
   "cell_type": "code",
   "execution_count": 6,
   "id": "3c6ccfef",
   "metadata": {},
   "outputs": [
    {
     "data": {
      "text/html": [
       "<div>\n",
       "<style scoped>\n",
       "    .dataframe tbody tr th:only-of-type {\n",
       "        vertical-align: middle;\n",
       "    }\n",
       "\n",
       "    .dataframe tbody tr th {\n",
       "        vertical-align: top;\n",
       "    }\n",
       "\n",
       "    .dataframe thead th {\n",
       "        text-align: right;\n",
       "    }\n",
       "</style>\n",
       "<table border=\"1\" class=\"dataframe\">\n",
       "  <thead>\n",
       "    <tr style=\"text-align: right;\">\n",
       "      <th></th>\n",
       "      <th>Ventricles</th>\n",
       "      <th>Hippocampus</th>\n",
       "      <th>WholeBrain</th>\n",
       "      <th>Fusiform</th>\n",
       "      <th>Entorhinal</th>\n",
       "      <th>MidTemp</th>\n",
       "      <th>RAVLT_immediate</th>\n",
       "      <th>RAVLT_learning</th>\n",
       "      <th>RAVLT_forgetting</th>\n",
       "      <th>RAVLT_perc_forgetting</th>\n",
       "      <th>FDG</th>\n",
       "      <th>AGE</th>\n",
       "      <th>PTEDUCAT</th>\n",
       "      <th>APOE4</th>\n",
       "      <th>PTGENDER</th>\n",
       "      <th>MMSE</th>\n",
       "    </tr>\n",
       "  </thead>\n",
       "  <tbody>\n",
       "    <tr>\n",
       "      <th>0</th>\n",
       "      <td>118233.0</td>\n",
       "      <td>8336.0</td>\n",
       "      <td>1229740.0</td>\n",
       "      <td>16559.0</td>\n",
       "      <td>4177.0</td>\n",
       "      <td>27936.0</td>\n",
       "      <td>44.0</td>\n",
       "      <td>4.0</td>\n",
       "      <td>6.0</td>\n",
       "      <td>54.5455</td>\n",
       "      <td>1.36926</td>\n",
       "      <td>74.3</td>\n",
       "      <td>16</td>\n",
       "      <td>0.0</td>\n",
       "      <td>Male</td>\n",
       "      <td>28.0</td>\n",
       "    </tr>\n",
       "    <tr>\n",
       "      <th>1</th>\n",
       "      <td>84599.0</td>\n",
       "      <td>5319.0</td>\n",
       "      <td>1129830.0</td>\n",
       "      <td>15506.0</td>\n",
       "      <td>1791.0</td>\n",
       "      <td>18422.0</td>\n",
       "      <td>22.0</td>\n",
       "      <td>1.0</td>\n",
       "      <td>4.0</td>\n",
       "      <td>100.0000</td>\n",
       "      <td>1.09079</td>\n",
       "      <td>81.3</td>\n",
       "      <td>18</td>\n",
       "      <td>1.0</td>\n",
       "      <td>Male</td>\n",
       "      <td>20.0</td>\n",
       "    </tr>\n",
       "    <tr>\n",
       "      <th>2</th>\n",
       "      <td>88580.0</td>\n",
       "      <td>5446.0</td>\n",
       "      <td>1100060.0</td>\n",
       "      <td>14400.0</td>\n",
       "      <td>2427.0</td>\n",
       "      <td>16972.0</td>\n",
       "      <td>19.0</td>\n",
       "      <td>2.0</td>\n",
       "      <td>6.0</td>\n",
       "      <td>100.0000</td>\n",
       "      <td>1.06360</td>\n",
       "      <td>81.3</td>\n",
       "      <td>18</td>\n",
       "      <td>1.0</td>\n",
       "      <td>Male</td>\n",
       "      <td>24.0</td>\n",
       "    </tr>\n",
       "    <tr>\n",
       "      <th>3</th>\n",
       "      <td>90099.0</td>\n",
       "      <td>5157.0</td>\n",
       "      <td>1095640.0</td>\n",
       "      <td>14617.0</td>\n",
       "      <td>1596.0</td>\n",
       "      <td>17330.0</td>\n",
       "      <td>31.0</td>\n",
       "      <td>2.0</td>\n",
       "      <td>7.0</td>\n",
       "      <td>100.0000</td>\n",
       "      <td>1.10384</td>\n",
       "      <td>81.3</td>\n",
       "      <td>18</td>\n",
       "      <td>1.0</td>\n",
       "      <td>Male</td>\n",
       "      <td>17.0</td>\n",
       "    </tr>\n",
       "    <tr>\n",
       "      <th>4</th>\n",
       "      <td>97420.0</td>\n",
       "      <td>5139.0</td>\n",
       "      <td>1088560.0</td>\n",
       "      <td>14033.0</td>\n",
       "      <td>1175.0</td>\n",
       "      <td>16398.0</td>\n",
       "      <td>23.0</td>\n",
       "      <td>1.0</td>\n",
       "      <td>5.0</td>\n",
       "      <td>100.0000</td>\n",
       "      <td>1.03871</td>\n",
       "      <td>81.3</td>\n",
       "      <td>18</td>\n",
       "      <td>1.0</td>\n",
       "      <td>Male</td>\n",
       "      <td>19.0</td>\n",
       "    </tr>\n",
       "  </tbody>\n",
       "</table>\n",
       "</div>"
      ],
      "text/plain": [
       "   Ventricles  Hippocampus  WholeBrain  Fusiform  Entorhinal  MidTemp  \\\n",
       "0    118233.0       8336.0   1229740.0   16559.0      4177.0  27936.0   \n",
       "1     84599.0       5319.0   1129830.0   15506.0      1791.0  18422.0   \n",
       "2     88580.0       5446.0   1100060.0   14400.0      2427.0  16972.0   \n",
       "3     90099.0       5157.0   1095640.0   14617.0      1596.0  17330.0   \n",
       "4     97420.0       5139.0   1088560.0   14033.0      1175.0  16398.0   \n",
       "\n",
       "   RAVLT_immediate  RAVLT_learning  RAVLT_forgetting  RAVLT_perc_forgetting  \\\n",
       "0             44.0             4.0               6.0                54.5455   \n",
       "1             22.0             1.0               4.0               100.0000   \n",
       "2             19.0             2.0               6.0               100.0000   \n",
       "3             31.0             2.0               7.0               100.0000   \n",
       "4             23.0             1.0               5.0               100.0000   \n",
       "\n",
       "       FDG   AGE  PTEDUCAT  APOE4 PTGENDER  MMSE  \n",
       "0  1.36926  74.3        16    0.0     Male  28.0  \n",
       "1  1.09079  81.3        18    1.0     Male  20.0  \n",
       "2  1.06360  81.3        18    1.0     Male  24.0  \n",
       "3  1.10384  81.3        18    1.0     Male  17.0  \n",
       "4  1.03871  81.3        18    1.0     Male  19.0  "
      ]
     },
     "execution_count": 6,
     "metadata": {},
     "output_type": "execute_result"
    }
   ],
   "source": [
    "dataframe_subset = dataframe[['Ventricles', 'Hippocampus', 'WholeBrain','Fusiform', 'Entorhinal', 'MidTemp','RAVLT_immediate','RAVLT_learning','RAVLT_forgetting','RAVLT_perc_forgetting' ,'FDG','AGE','PTEDUCAT','APOE4','PTGENDER','MMSE']]\n",
    "dataframe_subset.head()"
   ]
  },
  {
   "cell_type": "code",
   "execution_count": 7,
   "id": "eef59d42",
   "metadata": {},
   "outputs": [],
   "source": [
    "dataframe_subset=dataframe_subset.replace(np.nan,0)"
   ]
  },
  {
   "cell_type": "code",
   "execution_count": 8,
   "id": "2258eb2a",
   "metadata": {},
   "outputs": [
    {
     "name": "stdout",
     "output_type": "stream",
     "text": [
      "       Ventricles  Hippocampus  WholeBrain  Fusiform  Entorhinal  MidTemp  \\\n",
      "0        118233.0       8336.0   1229740.0   16559.0      4177.0  27936.0   \n",
      "1         84599.0       5319.0   1129830.0   15506.0      1791.0  18422.0   \n",
      "2         88580.0       5446.0   1100060.0   14400.0      2427.0  16972.0   \n",
      "3         90099.0       5157.0   1095640.0   14617.0      1596.0  17330.0   \n",
      "4         97420.0       5139.0   1088560.0   14033.0      1175.0  16398.0   \n",
      "...           ...          ...         ...       ...         ...      ...   \n",
      "12736         0.0          0.0         0.0       0.0         0.0      0.0   \n",
      "12737         0.0          0.0         0.0       0.0         0.0      0.0   \n",
      "12738         0.0          0.0         0.0       0.0         0.0      0.0   \n",
      "12739         0.0          0.0         0.0       0.0         0.0      0.0   \n",
      "12740         0.0          0.0         0.0       0.0         0.0      0.0   \n",
      "\n",
      "       RAVLT_immediate  RAVLT_learning  RAVLT_forgetting  \\\n",
      "0                 44.0             4.0               6.0   \n",
      "1                 22.0             1.0               4.0   \n",
      "2                 19.0             2.0               6.0   \n",
      "3                 31.0             2.0               7.0   \n",
      "4                 23.0             1.0               5.0   \n",
      "...                ...             ...               ...   \n",
      "12736              0.0             0.0               0.0   \n",
      "12737             38.0             3.0               5.0   \n",
      "12738             29.0             2.0               7.0   \n",
      "12739             38.0             3.0               1.0   \n",
      "12740             32.0             0.0               5.0   \n",
      "\n",
      "       RAVLT_perc_forgetting      FDG   AGE  PTEDUCAT  APOE4  MMSE  \\\n",
      "0                    54.5455  1.36926  74.3        16    0.0  28.0   \n",
      "1                   100.0000  1.09079  81.3        18    1.0  20.0   \n",
      "2                   100.0000  1.06360  81.3        18    1.0  24.0   \n",
      "3                   100.0000  1.10384  81.3        18    1.0  17.0   \n",
      "4                   100.0000  1.03871  81.3        18    1.0  19.0   \n",
      "...                      ...      ...   ...       ...    ...   ...   \n",
      "12736                 0.0000  0.00000  69.5        16    1.0  11.0   \n",
      "12737                50.0000  0.00000  59.0        16    0.0  27.0   \n",
      "12738               100.0000  0.00000  83.3        12    0.0  27.0   \n",
      "12739                11.1111  0.00000  68.0        16    0.0  28.0   \n",
      "12740                83.3333  0.00000  67.8        16    2.0  26.0   \n",
      "\n",
      "       PTGENDER_Female  PTGENDER_Male  \n",
      "0                    0              1  \n",
      "1                    0              1  \n",
      "2                    0              1  \n",
      "3                    0              1  \n",
      "4                    0              1  \n",
      "...                ...            ...  \n",
      "12736                1              0  \n",
      "12737                0              1  \n",
      "12738                1              0  \n",
      "12739                1              0  \n",
      "12740                0              1  \n",
      "\n",
      "[12741 rows x 17 columns]\n"
     ]
    }
   ],
   "source": [
    "dataframe_subset= pd.get_dummies(dataframe_subset, columns = ['PTGENDER'])\n",
    "print(dataframe_subset)\n"
   ]
  },
  {
   "cell_type": "code",
   "execution_count": 9,
   "id": "400ec28f",
   "metadata": {},
   "outputs": [
    {
     "name": "stdout",
     "output_type": "stream",
     "text": [
      "<class 'pandas.core.frame.DataFrame'>\n",
      "RangeIndex: 12741 entries, 0 to 12740\n",
      "Data columns (total 17 columns):\n",
      " #   Column                 Non-Null Count  Dtype  \n",
      "---  ------                 --------------  -----  \n",
      " 0   Ventricles             12741 non-null  float64\n",
      " 1   Hippocampus            12741 non-null  float64\n",
      " 2   WholeBrain             12741 non-null  float64\n",
      " 3   Fusiform               12741 non-null  float64\n",
      " 4   Entorhinal             12741 non-null  float64\n",
      " 5   MidTemp                12741 non-null  float64\n",
      " 6   RAVLT_immediate        12741 non-null  float64\n",
      " 7   RAVLT_learning         12741 non-null  float64\n",
      " 8   RAVLT_forgetting       12741 non-null  float64\n",
      " 9   RAVLT_perc_forgetting  12741 non-null  float64\n",
      " 10  FDG                    12741 non-null  float64\n",
      " 11  AGE                    12741 non-null  float64\n",
      " 12  PTEDUCAT               12741 non-null  int64  \n",
      " 13  APOE4                  12741 non-null  float64\n",
      " 14  MMSE                   12741 non-null  float64\n",
      " 15  PTGENDER_Female        12741 non-null  uint8  \n",
      " 16  PTGENDER_Male          12741 non-null  uint8  \n",
      "dtypes: float64(14), int64(1), uint8(2)\n",
      "memory usage: 1.5 MB\n"
     ]
    }
   ],
   "source": [
    "dataframe_subset.info()"
   ]
  },
  {
   "cell_type": "code",
   "execution_count": 10,
   "id": "7c2b2c30",
   "metadata": {},
   "outputs": [],
   "source": [
    "x=dataframe_subset.drop(['MMSE'],axis=1).values\n",
    "y=dataframe_subset['MMSE'].values"
   ]
  },
  {
   "cell_type": "code",
   "execution_count": 11,
   "id": "85394639",
   "metadata": {},
   "outputs": [
    {
     "name": "stdout",
     "output_type": "stream",
     "text": [
      "[[1.18233e+05 8.33600e+03 1.22974e+06 ... 0.00000e+00 0.00000e+00\n",
      "  1.00000e+00]\n",
      " [8.45990e+04 5.31900e+03 1.12983e+06 ... 1.00000e+00 0.00000e+00\n",
      "  1.00000e+00]\n",
      " [8.85800e+04 5.44600e+03 1.10006e+06 ... 1.00000e+00 0.00000e+00\n",
      "  1.00000e+00]\n",
      " ...\n",
      " [0.00000e+00 0.00000e+00 0.00000e+00 ... 0.00000e+00 1.00000e+00\n",
      "  0.00000e+00]\n",
      " [0.00000e+00 0.00000e+00 0.00000e+00 ... 0.00000e+00 1.00000e+00\n",
      "  0.00000e+00]\n",
      " [0.00000e+00 0.00000e+00 0.00000e+00 ... 2.00000e+00 0.00000e+00\n",
      "  1.00000e+00]]\n"
     ]
    }
   ],
   "source": [
    "print(x)"
   ]
  },
  {
   "cell_type": "code",
   "execution_count": 12,
   "id": "e3f5ef5c",
   "metadata": {},
   "outputs": [
    {
     "name": "stdout",
     "output_type": "stream",
     "text": [
      "[28. 20. 24. ... 27. 28. 26.]\n"
     ]
    }
   ],
   "source": [
    "print(y)"
   ]
  },
  {
   "cell_type": "code",
   "execution_count": 13,
   "id": "4e70a8dc",
   "metadata": {},
   "outputs": [],
   "source": [
    "from sklearn.model_selection import train_test_split\n",
    "x_train,x_test,y_train,y_test=train_test_split(x,y,test_size=0.3,random_state=0)"
   ]
  },
  {
   "cell_type": "code",
   "execution_count": 14,
   "id": "e5694417",
   "metadata": {},
   "outputs": [
    {
     "data": {
      "text/plain": [
       "Lasso()"
      ]
     },
     "execution_count": 14,
     "metadata": {},
     "output_type": "execute_result"
    }
   ],
   "source": [
    "from sklearn.linear_model import Lasso\n",
    "m1=Lasso()\n",
    "m1.fit(x_train,y_train)"
   ]
  },
  {
   "cell_type": "code",
   "execution_count": 15,
   "id": "35efc546",
   "metadata": {},
   "outputs": [
    {
     "name": "stdout",
     "output_type": "stream",
     "text": [
      "[ 4.14522104  6.66762465 20.32373045 ...  3.97993295 26.26560286\n",
      " 30.34144541]\n"
     ]
    }
   ],
   "source": [
    "y_pred=m1.predict(x_test)\n",
    "print(y_pred)"
   ]
  },
  {
   "cell_type": "code",
   "execution_count": 20,
   "id": "cff2d40d",
   "metadata": {},
   "outputs": [
    {
     "data": {
      "text/plain": [
       "array([32.1715341])"
      ]
     },
     "execution_count": 20,
     "metadata": {},
     "output_type": "execute_result"
    }
   ],
   "source": [
    "\n",
    "m1.predict([[118233.0,8336.0,1229740.0,16559.0,4177.0,27936.0,44.0,4.0,6.0,54.5455,1.36926,74.3,16,0.0,0,1]])\n"
   ]
  },
  {
   "cell_type": "code",
   "execution_count": 21,
   "id": "65e321f7",
   "metadata": {},
   "outputs": [
    {
     "data": {
      "text/plain": [
       "0.8711842376236836"
      ]
     },
     "execution_count": 21,
     "metadata": {},
     "output_type": "execute_result"
    }
   ],
   "source": [
    "from sklearn.metrics import r2_score\n",
    "r2_score(y_test,y_pred)"
   ]
  },
  {
   "cell_type": "code",
   "execution_count": 76,
   "id": "a2c92335",
   "metadata": {},
   "outputs": [
    {
     "data": {
      "text/plain": [
       "Text(0.5, 1.0, 'Actual vs. Predicted')"
      ]
     },
     "execution_count": 76,
     "metadata": {},
     "output_type": "execute_result"
    },
    {
     "data": {
      "image/png": "[encoded data removed]",
      "text/plain": [
       "<Figure size 1080x720 with 1 Axes>"
      ]
     },
     "metadata": {
      "needs_background": "light"
     },
     "output_type": "display_data"
    }
   ],
   "source": [
    "import matplotlib.pyplot as plt\n",
    "plt.figure(figsize=(15,10))\n",
    "plt.scatter(y_test,y_pred)\n",
    "plt.xlabel('Actual')\n",
    "plt.ylabel('Predicted')\n",
    "plt.title('Actual vs. Predicted')"
   ]
  },
  {
   "cell_type": "code",
   "execution_count": null,
   "id": "a229f291",
   "metadata": {},
   "outputs": [],
   "source": []
  }
 ],
 "metadata": {
  "kernelspec": {
   "display_name": "Python 3 (ipykernel)",
   "language": "python",
   "name": "python3"
  },
  "language_info": {
   "codemirror_mode": {
    "name": "ipython",
    "version": 3
   },
   "file_extension": ".py",
   "mimetype": "text/x-python",
   "name": "python",
   "nbconvert_exporter": "python",
   "pygments_lexer": "ipython3",
   "version": "3.9.7"
  }
 },
 "nbformat": 4,
 "nbformat_minor": 5
}
